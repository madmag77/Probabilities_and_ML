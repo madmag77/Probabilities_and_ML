{
 "cells": [
  {
   "cell_type": "markdown",
   "metadata": {},
   "source": [
    "## Toilet problem :)\n",
    "In our office there are a lot of people, and only one toilet with 4 cabins in there, but I've never waited in toilet! Everytime I come there is at least one cabin available.\n",
    "So, I'd like to calculate:\n",
    "1. Probability that I come to toilet and all cabins are busy\n",
    "2. Number of days which I will wait for such an event\n",
    "3. Number of people we should hire to meet such a problem every day"
   ]
  },
  {
   "cell_type": "code",
   "execution_count": 26,
   "metadata": {
    "collapsed": true
   },
   "outputs": [],
   "source": [
    "import scipy.stats as sts"
   ]
  },
  {
   "cell_type": "code",
   "execution_count": 27,
   "metadata": {
    "collapsed": true
   },
   "outputs": [],
   "source": [
    "# Healthy person goes to the toilet 5-7 times per day (let it be 6 in average), and one per night\n",
    "# Let's think that night lasts 8 houra and day lasts 16 hours\n",
    "# then during working day person attends toilet 3 times\n",
    "\n",
    "# Number of toilet visits per workday\n",
    "number_visit_toilet = 3.0\n",
    "\n",
    "# Duration of workday in minutes\n",
    "workday_duration_mins = 8 * 60.0\n",
    "\n",
    "# Number of workers in company\n",
    "number_workers = 100.0\n",
    "\n",
    "# Number of cabins in toilet (pissuar == cabin)\n",
    "number_cabins = 4.0\n",
    "\n",
    "# Time interval that person spends in toilet (average)\n",
    "duration_in_toilet_mins = 2.0 # minutes\n",
    "\n",
    "# Calculate probability of event that person goes to toilet in definite period = duration_in_toilet_mins\n",
    "prob_in_duration = number_visit_toilet * (duration_in_toilet_mins / workday_duration_mins)\n"
   ]
  },
  {
   "cell_type": "code",
   "execution_count": 28,
   "metadata": {},
   "outputs": [
    {
     "name": "stdout",
     "output_type": "stream",
     "text": [
      "Just fo fun, probability that nobody in toilet:  0.28650479686\n",
      "Probability that there are more persons in toilet than cabins available:  0.00183808545059\n"
     ]
    }
   ],
   "source": [
    "# I think Poisson distribution is very good for such a calculations\n",
    "# Calculate lambda for poisson distribution\n",
    "poisson_lambda = prob_in_duration * number_workers\n",
    "\n",
    "def probability_all_busy_in_toilet(poisson_lambda, number_cabins):\n",
    "    # Init poisson distribution object\n",
    "    poisson_rv = sts.poisson(poisson_lambda)\n",
    "    return 1.0 - poisson_rv.cdf(number_cabins + 1.0)\n",
    "\n",
    "print \"Just fo fun, probability that nobody in toilet: \", sts.poisson(poisson_lambda).cdf(0)\n",
    "\n",
    "busy_prob = probability_all_busy_in_toilet(poisson_lambda, number_cabins)\n",
    "print \"Probability that there are more persons in toilet than cabins available: \", busy_prob"
   ]
  },
  {
   "cell_type": "code",
   "execution_count": 24,
   "metadata": {},
   "outputs": [
    {
     "name": "stdout",
     "output_type": "stream",
     "text": [
      "Average number of days after which I will see all cabins busy:  181.348115903\n"
     ]
    }
   ],
   "source": [
    "print \"Average number of days after which I will see all cabins busy: \", 1.0 / (busy_prob * number_visit_toilet)"
   ]
  },
  {
   "cell_type": "code",
   "execution_count": 25,
   "metadata": {},
   "outputs": [
    {
     "name": "stdout",
     "output_type": "stream",
     "text": [
      "How many people should work:  377\n"
     ]
    }
   ],
   "source": [
    "# Let's calculate how many people should work in the company to cause this kind of problem on daily basis\n",
    "for number_workers in range(100, 1000, 1):\n",
    "    busy_prob = probability_all_busy_in_toilet(prob_in_duration * number_workers, number_cabins)\n",
    "    if busy_prob * number_visit_toilet > 1.0:\n",
    "        print \"How many people should work: \", number_workers\n",
    "        break"
   ]
  },
  {
   "cell_type": "markdown",
   "metadata": {},
   "source": [
    "## Conclusions:\n",
    "1. Every third time I attend toilet - all cabins are empty. Cool!\n",
    "2. Probability to see all cabins busy - 0.00183808545059. Rather small, but not that understandable.\n",
    "3. Probably I will see all cabins busy twice per year - not that bad.\n",
    "4. Situation will get worse when we hire more, but we should hire another 277 workers to meet that unpleasent situation every day.\n",
    "So, I can relax :)"
   ]
  },
  {
   "cell_type": "code",
   "execution_count": null,
   "metadata": {
    "collapsed": true
   },
   "outputs": [],
   "source": []
  }
 ],
 "metadata": {
  "kernelspec": {
   "display_name": "Python 2",
   "language": "python",
   "name": "python2"
  },
  "language_info": {
   "codemirror_mode": {
    "name": "ipython",
    "version": 2
   },
   "file_extension": ".py",
   "mimetype": "text/x-python",
   "name": "python",
   "nbconvert_exporter": "python",
   "pygments_lexer": "ipython2",
   "version": "2.7.13"
  }
 },
 "nbformat": 4,
 "nbformat_minor": 2
}
